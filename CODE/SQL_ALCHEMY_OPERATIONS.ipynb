{
 "cells": [
  {
   "cell_type": "code",
   "execution_count": 59,
   "id": "sweet-damage",
   "metadata": {},
   "outputs": [],
   "source": [
    "import pandas as pd \n",
    "import sqlalchemy as db\n",
    "from sqlalchemy import create_engine\n",
    "from sqlalchemy import join\n",
    "from sqlalchemy.sql import select"
   ]
  },
  {
   "cell_type": "markdown",
   "id": "fantastic-hebrew",
   "metadata": {},
   "source": [
    "#  Flow \n",
    "1. Create an engine object that connects to database. Passing database path through. \n",
    "2. Call .connect() method on object \n",
    "3. Instantiate MetaData() object\n",
    "4. Explore Database columns, and tables \n",
    "4. Connect to specific Table in data base with Table Method \n",
    "5. Write/Run queries "
   ]
  },
  {
   "cell_type": "markdown",
   "id": "combined-prescription",
   "metadata": {},
   "source": [
    "## Start"
   ]
  },
  {
   "cell_type": "code",
   "execution_count": 60,
   "id": "australian-struggle",
   "metadata": {},
   "outputs": [],
   "source": [
    "# instantiating connection and metadata objects \n",
    "engine = create_engine('sqlite:///sqlite-sakila.db')\n",
    "cnx = engine.connect()\n",
    "metadata = db.MetaData()\n",
    "\n"
   ]
  },
  {
   "cell_type": "markdown",
   "id": "faced-heather",
   "metadata": {},
   "source": [
    "## Exploring Database structure"
   ]
  },
  {
   "cell_type": "code",
   "execution_count": 61,
   "id": "czech-hughes",
   "metadata": {},
   "outputs": [
    {
     "name": "stdout",
     "output_type": "stream",
     "text": [
      "['actor', 'address', 'category', 'city', 'country', 'customer', 'film', 'film_actor', 'film_category', 'film_text', 'inventory', 'language', 'payment', 'rental', 'staff', 'store']\n"
     ]
    }
   ],
   "source": [
    "# finding table names \n",
    "table_names = engine.table_names()\n",
    "print(table_names)\n",
    "\n",
    "# find the column names for all tables \n",
    "\n",
    "def connect_to_table(cnx):\n",
    "    tables = []\n",
    "    \n",
    "    for table in table_names:\n",
    "        tbl = db.Table(table,metadata,autoload=True,autoload_with=cnx)\n",
    "        tables.append(tbl)\n",
    "    return tables \n",
    "\n",
    "_tables = connect_to_table(cnx)\n"
   ]
  },
  {
   "cell_type": "code",
   "execution_count": 62,
   "id": "affiliated-catholic",
   "metadata": {},
   "outputs": [
    {
     "data": {
      "text/plain": [
       "['film_id',\n",
       " 'title',\n",
       " 'description',\n",
       " 'release_year',\n",
       " 'language_id',\n",
       " 'original_language_id',\n",
       " 'rental_duration',\n",
       " 'rental_rate',\n",
       " 'length',\n",
       " 'replacement_cost',\n",
       " 'rating',\n",
       " 'special_features',\n",
       " 'last_update']"
      ]
     },
     "execution_count": 62,
     "metadata": {},
     "output_type": "execute_result"
    }
   ],
   "source": [
    "def get_column_names(_tables,table_names):\n",
    "    table_columns = {}\n",
    "    i = 0\n",
    "    for tbl in _tables:\n",
    "        table_columns[table_names[i]] = [c.name for c in tbl.columns]\n",
    "        i += 1\n",
    "    return table_columns \n",
    "\n",
    "TN_CN = get_column_names(_tables,table_names)\n",
    "TN_CN['film']"
   ]
  },
  {
   "cell_type": "markdown",
   "id": "growing-commercial",
   "metadata": {},
   "source": [
    "## The SELECT Statement \n",
    "*We actually connected to all the tables in the function connect_to_table, but lets rename them becasue right now they are stored as a list of table objects.*\n",
    "\n",
    "1. Lets show the title and description of a film from the table 'film' "
   ]
  },
  {
   "cell_type": "code",
   "execution_count": 63,
   "id": "joint-therapy",
   "metadata": {},
   "outputs": [
    {
     "data": {
      "text/html": [
       "<div>\n",
       "<style scoped>\n",
       "    .dataframe tbody tr th:only-of-type {\n",
       "        vertical-align: middle;\n",
       "    }\n",
       "\n",
       "    .dataframe tbody tr th {\n",
       "        vertical-align: top;\n",
       "    }\n",
       "\n",
       "    .dataframe thead th {\n",
       "        text-align: right;\n",
       "    }\n",
       "</style>\n",
       "<table border=\"1\" class=\"dataframe\">\n",
       "  <thead>\n",
       "    <tr style=\"text-align: right;\">\n",
       "      <th></th>\n",
       "      <th>TITLE</th>\n",
       "      <th>DESCRIPTION</th>\n",
       "      <th>MOVIE LENGTH</th>\n",
       "      <th>RATING</th>\n",
       "    </tr>\n",
       "  </thead>\n",
       "  <tbody>\n",
       "    <tr>\n",
       "      <th>0</th>\n",
       "      <td>ACADEMY DINOSAUR</td>\n",
       "      <td>A Epic Drama of a Feminist And a Mad Scientist...</td>\n",
       "      <td>86</td>\n",
       "      <td>PG</td>\n",
       "    </tr>\n",
       "    <tr>\n",
       "      <th>1</th>\n",
       "      <td>ACE GOLDFINGER</td>\n",
       "      <td>A Astounding Epistle of a Database Administrat...</td>\n",
       "      <td>48</td>\n",
       "      <td>G</td>\n",
       "    </tr>\n",
       "    <tr>\n",
       "      <th>2</th>\n",
       "      <td>ADAPTATION HOLES</td>\n",
       "      <td>A Astounding Reflection of a Lumberjack And a ...</td>\n",
       "      <td>50</td>\n",
       "      <td>NC-17</td>\n",
       "    </tr>\n",
       "    <tr>\n",
       "      <th>3</th>\n",
       "      <td>AFFAIR PREJUDICE</td>\n",
       "      <td>A Fanciful Documentary of a Frisbee And a Lumb...</td>\n",
       "      <td>117</td>\n",
       "      <td>G</td>\n",
       "    </tr>\n",
       "    <tr>\n",
       "      <th>4</th>\n",
       "      <td>AFRICAN EGG</td>\n",
       "      <td>A Fast-Paced Documentary of a Pastry Chef And ...</td>\n",
       "      <td>130</td>\n",
       "      <td>G</td>\n",
       "    </tr>\n",
       "  </tbody>\n",
       "</table>\n",
       "</div>"
      ],
      "text/plain": [
       "              TITLE                                        DESCRIPTION  \\\n",
       "0  ACADEMY DINOSAUR  A Epic Drama of a Feminist And a Mad Scientist...   \n",
       "1    ACE GOLDFINGER  A Astounding Epistle of a Database Administrat...   \n",
       "2  ADAPTATION HOLES  A Astounding Reflection of a Lumberjack And a ...   \n",
       "3  AFFAIR PREJUDICE  A Fanciful Documentary of a Frisbee And a Lumb...   \n",
       "4       AFRICAN EGG  A Fast-Paced Documentary of a Pastry Chef And ...   \n",
       "\n",
       "   MOVIE LENGTH RATING  \n",
       "0            86     PG  \n",
       "1            48      G  \n",
       "2            50  NC-17  \n",
       "3           117      G  \n",
       "4           130      G  "
      ]
     },
     "execution_count": 63,
     "metadata": {},
     "output_type": "execute_result"
    }
   ],
   "source": [
    "# lets use the 'film' table to run our first query \n",
    "# renaming object so we dont have to reference it by list index \n",
    "\n",
    "film = _tables[6]\n",
    "\n",
    "SELECT_query = db.select([film.columns['title'],film.columns['description'],film.columns['length'],film.columns['rating']])\n",
    "ResultProxy = cnx.execute(SELECT_query)\n",
    "ResultSet = ResultProxy.fetchall()\n",
    "\n",
    "#showing results in a dataframe \n",
    "select_ = pd.DataFrame(ResultSet, columns = ['TITLE','DESCRIPTION','MOVIE LENGTH','RATING'])\n",
    "select_.head()"
   ]
  },
  {
   "cell_type": "markdown",
   "id": "million-outdoors",
   "metadata": {},
   "source": [
    "## The SELECT Statement with LIKE\n",
    "Lets augment the above query 'SELECT_query' and filter with LIKE and WHERE\n",
    "\n",
    "In this query we want to see all titles films that have Dinosaur in the title. Maybe our kid really loves dinosours. "
   ]
  },
  {
   "cell_type": "code",
   "execution_count": 64,
   "id": "ceramic-ballet",
   "metadata": {},
   "outputs": [
    {
     "data": {
      "text/html": [
       "<div>\n",
       "<style scoped>\n",
       "    .dataframe tbody tr th:only-of-type {\n",
       "        vertical-align: middle;\n",
       "    }\n",
       "\n",
       "    .dataframe tbody tr th {\n",
       "        vertical-align: top;\n",
       "    }\n",
       "\n",
       "    .dataframe thead th {\n",
       "        text-align: right;\n",
       "    }\n",
       "</style>\n",
       "<table border=\"1\" class=\"dataframe\">\n",
       "  <thead>\n",
       "    <tr style=\"text-align: right;\">\n",
       "      <th></th>\n",
       "      <th>TITLE</th>\n",
       "      <th>DESCRIPTION</th>\n",
       "      <th>MOVIE LENGTH</th>\n",
       "      <th>RATING</th>\n",
       "    </tr>\n",
       "  </thead>\n",
       "  <tbody>\n",
       "    <tr>\n",
       "      <th>0</th>\n",
       "      <td>ACADEMY DINOSAUR</td>\n",
       "      <td>A Epic Drama of a Feminist And a Mad Scientist...</td>\n",
       "      <td>86</td>\n",
       "      <td>PG</td>\n",
       "    </tr>\n",
       "    <tr>\n",
       "      <th>1</th>\n",
       "      <td>CENTER DINOSAUR</td>\n",
       "      <td>A Beautiful Character Study of a Sumo Wrestler...</td>\n",
       "      <td>152</td>\n",
       "      <td>PG</td>\n",
       "    </tr>\n",
       "    <tr>\n",
       "      <th>2</th>\n",
       "      <td>DINOSAUR SECRETARY</td>\n",
       "      <td>A Action-Packed Drama of a Feminist And a Girl...</td>\n",
       "      <td>63</td>\n",
       "      <td>R</td>\n",
       "    </tr>\n",
       "  </tbody>\n",
       "</table>\n",
       "</div>"
      ],
      "text/plain": [
       "                TITLE                                        DESCRIPTION  \\\n",
       "0    ACADEMY DINOSAUR  A Epic Drama of a Feminist And a Mad Scientist...   \n",
       "1     CENTER DINOSAUR  A Beautiful Character Study of a Sumo Wrestler...   \n",
       "2  DINOSAUR SECRETARY  A Action-Packed Drama of a Feminist And a Girl...   \n",
       "\n",
       "   MOVIE LENGTH RATING  \n",
       "0            86     PG  \n",
       "1           152     PG  \n",
       "2            63      R  "
      ]
     },
     "execution_count": 64,
     "metadata": {},
     "output_type": "execute_result"
    }
   ],
   "source": [
    "SELECT_LIKE_query = SELECT_query.where(film.columns['title'].like(\"%Dinosaur%\"))\n",
    "ResultProxy = cnx.execute(SELECT_LIKE_query)\n",
    "ResultSet = ResultProxy.fetchall()\n",
    "\n",
    "select_like = pd.DataFrame(ResultSet, columns = ['TITLE','DESCRIPTION','MOVIE LENGTH','RATING'])\n",
    "select_like.head()"
   ]
  },
  {
   "cell_type": "markdown",
   "id": "ethical-stock",
   "metadata": {},
   "source": [
    "## The AND statement\n",
    "Ok we were able to find all films that have dinasour in the title, but as you can see above one of the films returned a rated R rating. So lets see if we can Now expand our query to show only pg films that have a run time less than 90mins\n"
   ]
  },
  {
   "cell_type": "code",
   "execution_count": 65,
   "id": "southern-alias",
   "metadata": {},
   "outputs": [
    {
     "name": "stdout",
     "output_type": "stream",
     "text": [
      "Movie Description:  A Epic Drama of a Feminist And a Mad Scientist who must Battle a Teacher in The Canadian Rockies\n"
     ]
    },
    {
     "data": {
      "text/html": [
       "<div>\n",
       "<style scoped>\n",
       "    .dataframe tbody tr th:only-of-type {\n",
       "        vertical-align: middle;\n",
       "    }\n",
       "\n",
       "    .dataframe tbody tr th {\n",
       "        vertical-align: top;\n",
       "    }\n",
       "\n",
       "    .dataframe thead th {\n",
       "        text-align: right;\n",
       "    }\n",
       "</style>\n",
       "<table border=\"1\" class=\"dataframe\">\n",
       "  <thead>\n",
       "    <tr style=\"text-align: right;\">\n",
       "      <th></th>\n",
       "      <th>TITLE</th>\n",
       "      <th>DESCRIPTION</th>\n",
       "      <th>MOVIE LENGTH</th>\n",
       "      <th>RATING</th>\n",
       "    </tr>\n",
       "  </thead>\n",
       "  <tbody>\n",
       "    <tr>\n",
       "      <th>0</th>\n",
       "      <td>ACADEMY DINOSAUR</td>\n",
       "      <td>A Epic Drama of a Feminist And a Mad Scientist...</td>\n",
       "      <td>86</td>\n",
       "      <td>PG</td>\n",
       "    </tr>\n",
       "  </tbody>\n",
       "</table>\n",
       "</div>"
      ],
      "text/plain": [
       "              TITLE                                        DESCRIPTION  \\\n",
       "0  ACADEMY DINOSAUR  A Epic Drama of a Feminist And a Mad Scientist...   \n",
       "\n",
       "   MOVIE LENGTH RATING  \n",
       "0            86     PG  "
      ]
     },
     "execution_count": 65,
     "metadata": {},
     "output_type": "execute_result"
    }
   ],
   "source": [
    "#writing/executing query\n",
    "SELECT_LIKE_AND_query = SELECT_query.where(db.and_(film.columns['title'].like('%Dinosaur%'),film.columns['rating'] == 'PG',film.columns['length']<=90))\n",
    "ResultProxy = cnx.execute(SELECT_LIKE_AND_query)\n",
    "ResultSet = ResultProxy.fetchall()\n",
    "\n",
    "# results in dataframe\n",
    "select_like_and = pd.DataFrame(ResultSet, columns = ['TITLE','DESCRIPTION','MOVIE LENGTH','RATING'])\n",
    "\n",
    "print('Movie Description: ',select_like_and['DESCRIPTION'][0])\n",
    "select_like_and"
   ]
  },
  {
   "cell_type": "markdown",
   "id": "military-scholar",
   "metadata": {},
   "source": [
    "## GROUP BY and COUNT\n",
    "Letes use group by to look at the distributing of rating type that this store offers, to see if there are enough PG titles to justify shopping here.\n",
    "\n",
    "We also need to import 'func' from the sqlalchemy library"
   ]
  },
  {
   "cell_type": "code",
   "execution_count": 66,
   "id": "absent-cooperative",
   "metadata": {},
   "outputs": [
    {
     "data": {
      "text/html": [
       "<div>\n",
       "<style scoped>\n",
       "    .dataframe tbody tr th:only-of-type {\n",
       "        vertical-align: middle;\n",
       "    }\n",
       "\n",
       "    .dataframe tbody tr th {\n",
       "        vertical-align: top;\n",
       "    }\n",
       "\n",
       "    .dataframe thead th {\n",
       "        text-align: right;\n",
       "    }\n",
       "</style>\n",
       "<table border=\"1\" class=\"dataframe\">\n",
       "  <thead>\n",
       "    <tr style=\"text-align: right;\">\n",
       "      <th></th>\n",
       "      <th>Rating Type</th>\n",
       "      <th>Num Per Rating</th>\n",
       "    </tr>\n",
       "  </thead>\n",
       "  <tbody>\n",
       "    <tr>\n",
       "      <th>0</th>\n",
       "      <td>PG-13</td>\n",
       "      <td>223</td>\n",
       "    </tr>\n",
       "    <tr>\n",
       "      <th>1</th>\n",
       "      <td>NC-17</td>\n",
       "      <td>210</td>\n",
       "    </tr>\n",
       "    <tr>\n",
       "      <th>2</th>\n",
       "      <td>R</td>\n",
       "      <td>195</td>\n",
       "    </tr>\n",
       "    <tr>\n",
       "      <th>3</th>\n",
       "      <td>PG</td>\n",
       "      <td>194</td>\n",
       "    </tr>\n",
       "    <tr>\n",
       "      <th>4</th>\n",
       "      <td>G</td>\n",
       "      <td>178</td>\n",
       "    </tr>\n",
       "  </tbody>\n",
       "</table>\n",
       "</div>"
      ],
      "text/plain": [
       "  Rating Type  Num Per Rating\n",
       "0       PG-13             223\n",
       "1       NC-17             210\n",
       "2           R             195\n",
       "3          PG             194\n",
       "4           G             178"
      ]
     },
     "execution_count": 66,
     "metadata": {},
     "output_type": "execute_result"
    }
   ],
   "source": [
    "from sqlalchemy import func\n",
    "#importing seaborn library for plotting results\n",
    "import seaborn as sns\n",
    "\n",
    "select_ = db.select([film.columns['rating'],func.count(film.columns['rating']).label('RATING')])\n",
    "select_group_by = select_.group_by(film.columns['rating']).order_by(db.desc('RATING'))\n",
    "\n",
    "ResultProxy = cnx.execute(select_group_by)\n",
    "ResultSet = ResultProxy.fetchall()\n",
    "\n",
    "ratings_distribution = pd.DataFrame(ResultSet, columns = ['Rating Type','Num Per Rating'])\n",
    "ratings_distribution"
   ]
  },
  {
   "cell_type": "code",
   "execution_count": 67,
   "id": "bottom-principal",
   "metadata": {},
   "outputs": [
    {
     "data": {
      "image/png": "[encoded data removed]",
      "text/plain": [
       "<Figure size 432x288 with 1 Axes>"
      ]
     },
     "metadata": {},
     "output_type": "display_data"
    }
   ],
   "source": [
    "ax = sns.barplot( x = 'Rating Type',y='Num Per Rating',data=ratings_distribution)"
   ]
  },
  {
   "cell_type": "markdown",
   "id": "featured-knowing",
   "metadata": {},
   "source": [
    "## The JOIN operation \n",
    "Finally lets flex our muscles with SQL alchemy a little bit and see if we can use the join statement to settle a customer dispute. A customer, call her Charlotte is disputing an accusation that she didn't return a film she rented. The clerk currently on shift was not at the store when she claimed to have returned the film. So we need to track down the customer name, the rental date, the claimed return date, the employee on shift at the time and the film title. Lets see if we can do this with SQL Alchemy,"
   ]
  },
  {
   "cell_type": "code",
   "execution_count": 68,
   "id": "individual-acting",
   "metadata": {},
   "outputs": [
    {
     "data": {
      "text/html": [
       "<div>\n",
       "<style scoped>\n",
       "    .dataframe tbody tr th:only-of-type {\n",
       "        vertical-align: middle;\n",
       "    }\n",
       "\n",
       "    .dataframe tbody tr th {\n",
       "        vertical-align: top;\n",
       "    }\n",
       "\n",
       "    .dataframe thead th {\n",
       "        text-align: right;\n",
       "    }\n",
       "</style>\n",
       "<table border=\"1\" class=\"dataframe\">\n",
       "  <thead>\n",
       "    <tr style=\"text-align: right;\">\n",
       "      <th></th>\n",
       "      <th>Name</th>\n",
       "      <th>Rental_Date</th>\n",
       "      <th>Return_Date</th>\n",
       "      <th>Customer ID</th>\n",
       "      <th>Staff ID</th>\n",
       "      <th>Film ID</th>\n",
       "    </tr>\n",
       "  </thead>\n",
       "  <tbody>\n",
       "    <tr>\n",
       "      <th>0</th>\n",
       "      <td>CHARLOTTE</td>\n",
       "      <td>130</td>\n",
       "      <td>2005-05-24 22:53:30</td>\n",
       "      <td>2005-05-26 22:04:30</td>\n",
       "      <td>1</td>\n",
       "      <td>367</td>\n",
       "    </tr>\n",
       "    <tr>\n",
       "      <th>1</th>\n",
       "      <td>CHARLOTTE</td>\n",
       "      <td>130</td>\n",
       "      <td>2005-05-29 09:25:10</td>\n",
       "      <td>2005-06-02 04:20:10</td>\n",
       "      <td>2</td>\n",
       "      <td>4272</td>\n",
       "    </tr>\n",
       "    <tr>\n",
       "      <th>2</th>\n",
       "      <td>CHARLOTTE</td>\n",
       "      <td>130</td>\n",
       "      <td>2005-06-16 07:55:01</td>\n",
       "      <td>2005-06-19 06:38:01</td>\n",
       "      <td>1</td>\n",
       "      <td>2413</td>\n",
       "    </tr>\n",
       "    <tr>\n",
       "      <th>3</th>\n",
       "      <td>CHARLOTTE</td>\n",
       "      <td>130</td>\n",
       "      <td>2005-06-17 01:39:47</td>\n",
       "      <td>2005-06-24 19:39:47</td>\n",
       "      <td>2</td>\n",
       "      <td>1815</td>\n",
       "    </tr>\n",
       "    <tr>\n",
       "      <th>4</th>\n",
       "      <td>CHARLOTTE</td>\n",
       "      <td>130</td>\n",
       "      <td>2005-06-17 23:46:16</td>\n",
       "      <td>2005-06-22 22:48:16</td>\n",
       "      <td>2</td>\n",
       "      <td>2600</td>\n",
       "    </tr>\n",
       "  </tbody>\n",
       "</table>\n",
       "</div>"
      ],
      "text/plain": [
       "        Name  Rental_Date         Return_Date         Customer ID  Staff ID  \\\n",
       "0  CHARLOTTE          130 2005-05-24 22:53:30 2005-05-26 22:04:30         1   \n",
       "1  CHARLOTTE          130 2005-05-29 09:25:10 2005-06-02 04:20:10         2   \n",
       "2  CHARLOTTE          130 2005-06-16 07:55:01 2005-06-19 06:38:01         1   \n",
       "3  CHARLOTTE          130 2005-06-17 01:39:47 2005-06-24 19:39:47         2   \n",
       "4  CHARLOTTE          130 2005-06-17 23:46:16 2005-06-22 22:48:16         2   \n",
       "\n",
       "   Film ID  \n",
       "0      367  \n",
       "1     4272  \n",
       "2     2413  \n",
       "3     1815  \n",
       "4     2600  "
      ]
     },
     "execution_count": 68,
     "metadata": {},
     "output_type": "execute_result"
    }
   ],
   "source": [
    "from sqlalchemy import join \n",
    "from sqlalchemy.sql import select\n",
    "\n",
    "rental = _tables[13]\n",
    "inventory = _tables[10]\n",
    "customer = _tables[5]\n",
    "\n",
    "join_a = rental.join(inventory,rental.c.inventory_id==inventory.c.inventory_id)\n",
    "join_b = join_a.join(customer, customer.c.customer_id==rental.c.customer_id)\n",
    "\n",
    "\n",
    "select_statement = select([customer.c.first_name,rental.c.customer_id,\n",
    "                    rental.c.rental_date,rental.c.return_date,rental.c.staff_id,\n",
    "                         inventory.c.inventory_id]).select_from(join_b)\n",
    "query = select_statement.where(customer.c.first_name == 'CHARLOTTE')\n",
    "\n",
    "\n",
    "\n",
    "ResultProxy = cnx.execute(query)\n",
    "ResultSet = ResultProxy.fetchall()\n",
    "\n",
    "customer_dispute = pd.DataFrame(ResultSet, columns = ['Name','Rental_Date','Return_Date','Customer ID','Staff ID','Film ID'])\n",
    "customer_dispute.head()"
   ]
  },
  {
   "cell_type": "markdown",
   "id": "realistic-purse",
   "metadata": {},
   "source": [
    "# Top Customer "
   ]
  },
  {
   "cell_type": "code",
   "execution_count": 69,
   "id": "young-threshold",
   "metadata": {},
   "outputs": [
    {
     "data": {
      "text/html": [
       "<div>\n",
       "<style scoped>\n",
       "    .dataframe tbody tr th:only-of-type {\n",
       "        vertical-align: middle;\n",
       "    }\n",
       "\n",
       "    .dataframe tbody tr th {\n",
       "        vertical-align: top;\n",
       "    }\n",
       "\n",
       "    .dataframe thead th {\n",
       "        text-align: right;\n",
       "    }\n",
       "</style>\n",
       "<table border=\"1\" class=\"dataframe\">\n",
       "  <thead>\n",
       "    <tr style=\"text-align: right;\">\n",
       "      <th></th>\n",
       "      <th>CustomerID</th>\n",
       "      <th>FirstName</th>\n",
       "      <th>LastName</th>\n",
       "      <th>NumRentals</th>\n",
       "    </tr>\n",
       "  </thead>\n",
       "  <tbody>\n",
       "    <tr>\n",
       "      <th>0</th>\n",
       "      <td>148</td>\n",
       "      <td>ELEANOR</td>\n",
       "      <td>HUNT</td>\n",
       "      <td>46</td>\n",
       "    </tr>\n",
       "    <tr>\n",
       "      <th>1</th>\n",
       "      <td>526</td>\n",
       "      <td>KARL</td>\n",
       "      <td>SEAL</td>\n",
       "      <td>45</td>\n",
       "    </tr>\n",
       "    <tr>\n",
       "      <th>2</th>\n",
       "      <td>144</td>\n",
       "      <td>CLARA</td>\n",
       "      <td>SHAW</td>\n",
       "      <td>42</td>\n",
       "    </tr>\n",
       "    <tr>\n",
       "      <th>3</th>\n",
       "      <td>236</td>\n",
       "      <td>MARCIA</td>\n",
       "      <td>DEAN</td>\n",
       "      <td>42</td>\n",
       "    </tr>\n",
       "    <tr>\n",
       "      <th>4</th>\n",
       "      <td>75</td>\n",
       "      <td>TAMMY</td>\n",
       "      <td>SANDERS</td>\n",
       "      <td>41</td>\n",
       "    </tr>\n",
       "    <tr>\n",
       "      <th>...</th>\n",
       "      <td>...</td>\n",
       "      <td>...</td>\n",
       "      <td>...</td>\n",
       "      <td>...</td>\n",
       "    </tr>\n",
       "    <tr>\n",
       "      <th>594</th>\n",
       "      <td>248</td>\n",
       "      <td>CAROLINE</td>\n",
       "      <td>BOWMAN</td>\n",
       "      <td>15</td>\n",
       "    </tr>\n",
       "    <tr>\n",
       "      <th>595</th>\n",
       "      <td>61</td>\n",
       "      <td>KATHERINE</td>\n",
       "      <td>RIVERA</td>\n",
       "      <td>14</td>\n",
       "    </tr>\n",
       "    <tr>\n",
       "      <th>596</th>\n",
       "      <td>110</td>\n",
       "      <td>TIFFANY</td>\n",
       "      <td>JORDAN</td>\n",
       "      <td>14</td>\n",
       "    </tr>\n",
       "    <tr>\n",
       "      <th>597</th>\n",
       "      <td>281</td>\n",
       "      <td>LEONA</td>\n",
       "      <td>OBRIEN</td>\n",
       "      <td>14</td>\n",
       "    </tr>\n",
       "    <tr>\n",
       "      <th>598</th>\n",
       "      <td>318</td>\n",
       "      <td>BRIAN</td>\n",
       "      <td>WYMAN</td>\n",
       "      <td>12</td>\n",
       "    </tr>\n",
       "  </tbody>\n",
       "</table>\n",
       "<p>599 rows × 4 columns</p>\n",
       "</div>"
      ],
      "text/plain": [
       "     CustomerID  FirstName LastName  NumRentals\n",
       "0           148    ELEANOR     HUNT          46\n",
       "1           526       KARL     SEAL          45\n",
       "2           144      CLARA     SHAW          42\n",
       "3           236     MARCIA     DEAN          42\n",
       "4            75      TAMMY  SANDERS          41\n",
       "..          ...        ...      ...         ...\n",
       "594         248   CAROLINE   BOWMAN          15\n",
       "595          61  KATHERINE   RIVERA          14\n",
       "596         110    TIFFANY   JORDAN          14\n",
       "597         281      LEONA   OBRIEN          14\n",
       "598         318      BRIAN    WYMAN          12\n",
       "\n",
       "[599 rows x 4 columns]"
      ]
     },
     "execution_count": 69,
     "metadata": {},
     "output_type": "execute_result"
    }
   ],
   "source": [
    "JOIN = rental.join(customer, rental.c.customer_id==customer.c.customer_id)\n",
    "\n",
    "select_ = select([rental.c.customer_id,customer.c.first_name,customer.c.last_name,func.count(rental.c.rental_date).label(\"NumRentals\")])\n",
    "select_join = select_.select_from(JOIN)\n",
    "query = select_join.group_by(rental.c.customer_id).order_by(db.desc('NumRentals'))\n",
    "\n",
    "ResultProxy = cnx.execute(query)\n",
    "ResultSet = ResultProxy.fetchall()\n",
    "\n",
    "top_customers = pd.DataFrame(ResultSet, columns = ['CustomerID','FirstName','LastName','NumRentals'])\n",
    "top_customers"
   ]
  },
  {
   "cell_type": "code",
   "execution_count": 70,
   "id": "german-structure",
   "metadata": {},
   "outputs": [
    {
     "data": {
      "image/png": "[encoded data removed]",
      "text/plain": [
       "<Figure size 432x288 with 1 Axes>"
      ]
     },
     "metadata": {},
     "output_type": "display_data"
    }
   ],
   "source": [
    "import seaborn as sns\n",
    "sns.set_theme(style=\"whitegrid\")\n",
    "\n",
    "ax = sns.barplot(x=\"NumRentals\", y=\"LastName\", data=top_customers[:20])\n"
   ]
  },
  {
   "cell_type": "markdown",
   "id": "hollow-oxygen",
   "metadata": {},
   "source": [
    "# Top customer film type distribution "
   ]
  },
  {
   "cell_type": "code",
   "execution_count": 71,
   "id": "bacterial-dealing",
   "metadata": {},
   "outputs": [
    {
     "data": {
      "text/html": [
       "<div>\n",
       "<style scoped>\n",
       "    .dataframe tbody tr th:only-of-type {\n",
       "        vertical-align: middle;\n",
       "    }\n",
       "\n",
       "    .dataframe tbody tr th {\n",
       "        vertical-align: top;\n",
       "    }\n",
       "\n",
       "    .dataframe thead th {\n",
       "        text-align: right;\n",
       "    }\n",
       "</style>\n",
       "<table border=\"1\" class=\"dataframe\">\n",
       "  <thead>\n",
       "    <tr style=\"text-align: right;\">\n",
       "      <th></th>\n",
       "      <th>Rating</th>\n",
       "      <th>RatingCount</th>\n",
       "    </tr>\n",
       "  </thead>\n",
       "  <tbody>\n",
       "    <tr>\n",
       "      <th>0</th>\n",
       "      <td>PG-13</td>\n",
       "      <td>3585</td>\n",
       "    </tr>\n",
       "    <tr>\n",
       "      <th>1</th>\n",
       "      <td>NC-17</td>\n",
       "      <td>3293</td>\n",
       "    </tr>\n",
       "    <tr>\n",
       "      <th>2</th>\n",
       "      <td>PG</td>\n",
       "      <td>3212</td>\n",
       "    </tr>\n",
       "    <tr>\n",
       "      <th>3</th>\n",
       "      <td>R</td>\n",
       "      <td>3181</td>\n",
       "    </tr>\n",
       "    <tr>\n",
       "      <th>4</th>\n",
       "      <td>G</td>\n",
       "      <td>2773</td>\n",
       "    </tr>\n",
       "  </tbody>\n",
       "</table>\n",
       "</div>"
      ],
      "text/plain": [
       "  Rating  RatingCount\n",
       "0  PG-13         3585\n",
       "1  NC-17         3293\n",
       "2     PG         3212\n",
       "3      R         3181\n",
       "4      G         2773"
      ]
     },
     "execution_count": 71,
     "metadata": {},
     "output_type": "execute_result"
    }
   ],
   "source": [
    "JOIN_A = rental.join(inventory,rental.c.inventory_id==inventory.c.inventory_id)\n",
    "JOIN_B = JOIN_A.join(film, inventory.c.film_id==film.c.film_id)\n",
    "\n",
    "SELECT = select([film.c.rating,func.count(film.c.rating).label('RatingCount')])\n",
    "collect_joins = SELECT.select_from(JOIN_B)\n",
    "\n",
    "query = collect_joins.group_by(film.c.rating).order_by(db.desc('RatingCount'))\n",
    "\n",
    "ResultProxy = cnx.execute(query)\n",
    "ResultSet = ResultProxy.fetchall()\n",
    "\n",
    "top_customer_film_types = pd.DataFrame(ResultSet, columns = ['Rating','RatingCount'])\n",
    "top_customer_film_types"
   ]
  },
  {
   "cell_type": "code",
   "execution_count": 72,
   "id": "explicit-actress",
   "metadata": {},
   "outputs": [
    {
     "data": {
      "image/png": "[encoded data removed]",
      "text/plain": [
       "<Figure size 432x288 with 1 Axes>"
      ]
     },
     "metadata": {},
     "output_type": "display_data"
    }
   ],
   "source": [
    "ax = sns.barplot(x=\"Rating\", y=\"RatingCount\", data=top_customer_film_types)\n"
   ]
  },
  {
   "cell_type": "code",
   "execution_count": 73,
   "id": "hearing-language",
   "metadata": {},
   "outputs": [
    {
     "data": {
      "text/html": [
       "<div>\n",
       "<style scoped>\n",
       "    .dataframe tbody tr th:only-of-type {\n",
       "        vertical-align: middle;\n",
       "    }\n",
       "\n",
       "    .dataframe tbody tr th {\n",
       "        vertical-align: top;\n",
       "    }\n",
       "\n",
       "    .dataframe thead th {\n",
       "        text-align: right;\n",
       "    }\n",
       "</style>\n",
       "<table border=\"1\" class=\"dataframe\">\n",
       "  <thead>\n",
       "    <tr style=\"text-align: right;\">\n",
       "      <th></th>\n",
       "      <th>CustomerID</th>\n",
       "      <th>NumRentals</th>\n",
       "    </tr>\n",
       "  </thead>\n",
       "  <tbody>\n",
       "    <tr>\n",
       "      <th>0</th>\n",
       "      <td>368</td>\n",
       "      <td>35</td>\n",
       "    </tr>\n",
       "    <tr>\n",
       "      <th>1</th>\n",
       "      <td>241</td>\n",
       "      <td>34</td>\n",
       "    </tr>\n",
       "    <tr>\n",
       "      <th>2</th>\n",
       "      <td>64</td>\n",
       "      <td>33</td>\n",
       "    </tr>\n",
       "    <tr>\n",
       "      <th>3</th>\n",
       "      <td>406</td>\n",
       "      <td>32</td>\n",
       "    </tr>\n",
       "    <tr>\n",
       "      <th>4</th>\n",
       "      <td>446</td>\n",
       "      <td>31</td>\n",
       "    </tr>\n",
       "    <tr>\n",
       "      <th>5</th>\n",
       "      <td>482</td>\n",
       "      <td>29</td>\n",
       "    </tr>\n",
       "    <tr>\n",
       "      <th>6</th>\n",
       "      <td>592</td>\n",
       "      <td>29</td>\n",
       "    </tr>\n",
       "    <tr>\n",
       "      <th>7</th>\n",
       "      <td>16</td>\n",
       "      <td>28</td>\n",
       "    </tr>\n",
       "    <tr>\n",
       "      <th>8</th>\n",
       "      <td>558</td>\n",
       "      <td>28</td>\n",
       "    </tr>\n",
       "    <tr>\n",
       "      <th>9</th>\n",
       "      <td>510</td>\n",
       "      <td>26</td>\n",
       "    </tr>\n",
       "    <tr>\n",
       "      <th>10</th>\n",
       "      <td>534</td>\n",
       "      <td>24</td>\n",
       "    </tr>\n",
       "    <tr>\n",
       "      <th>11</th>\n",
       "      <td>169</td>\n",
       "      <td>22</td>\n",
       "    </tr>\n",
       "    <tr>\n",
       "      <th>12</th>\n",
       "      <td>124</td>\n",
       "      <td>18</td>\n",
       "    </tr>\n",
       "    <tr>\n",
       "      <th>13</th>\n",
       "      <td>271</td>\n",
       "      <td>18</td>\n",
       "    </tr>\n",
       "    <tr>\n",
       "      <th>14</th>\n",
       "      <td>315</td>\n",
       "      <td>17</td>\n",
       "    </tr>\n",
       "  </tbody>\n",
       "</table>\n",
       "</div>"
      ],
      "text/plain": [
       "    CustomerID  NumRentals\n",
       "0          368          35\n",
       "1          241          34\n",
       "2           64          33\n",
       "3          406          32\n",
       "4          446          31\n",
       "5          482          29\n",
       "6          592          29\n",
       "7           16          28\n",
       "8          558          28\n",
       "9          510          26\n",
       "10         534          24\n",
       "11         169          22\n",
       "12         124          18\n",
       "13         271          18\n",
       "14         315          17"
      ]
     },
     "execution_count": 73,
     "metadata": {},
     "output_type": "execute_result"
    }
   ],
   "source": [
    "join_A = rental.join(customer, rental.c.customer_id==customer.c.customer_id)\n",
    "join_B = join_A.join(inventory, rental.c.inventory_id==inventory.c.inventory_id)\n",
    "join_C = join_B.join(film , inventory.c.film_id==film.c.film_id)\n",
    "\n",
    "SELECT = select([customer.c.customer_id,func.count(rental.c.rental_date).label('NumRentals')])\n",
    "join_select = SELECT.select_from(join_C)\n",
    "query = join_select.where(customer.c.active==0).group_by(rental.c.customer_id).order_by(db.desc('NumRentals'))\n",
    "\n",
    "ResultProxy = cnx.execute(query)\n",
    "ResultSet = ResultProxy.fetchall()\n",
    "\n",
    "top_inactive_customers = pd.DataFrame(ResultSet, columns = ['CustomerID','NumRentals'])\n",
    "top_inactive_customers\n"
   ]
  },
  {
   "cell_type": "code",
   "execution_count": 74,
   "id": "premium-valley",
   "metadata": {},
   "outputs": [
    {
     "data": {
      "image/png": "[encoded data removed]",
      "text/plain": [
       "<Figure size 432x288 with 1 Axes>"
      ]
     },
     "metadata": {},
     "output_type": "display_data"
    }
   ],
   "source": [
    "ax2 = sns.barplot(x=\"CustomerID\", y=\"NumRentals\", data=top_inactive_customers)\n"
   ]
  },
  {
   "cell_type": "code",
   "execution_count": 75,
   "id": "disturbed-organizer",
   "metadata": {},
   "outputs": [
    {
     "data": {
      "text/html": [
       "<div>\n",
       "<style scoped>\n",
       "    .dataframe tbody tr th:only-of-type {\n",
       "        vertical-align: middle;\n",
       "    }\n",
       "\n",
       "    .dataframe tbody tr th {\n",
       "        vertical-align: top;\n",
       "    }\n",
       "\n",
       "    .dataframe thead th {\n",
       "        text-align: right;\n",
       "    }\n",
       "</style>\n",
       "<table border=\"1\" class=\"dataframe\">\n",
       "  <thead>\n",
       "    <tr style=\"text-align: right;\">\n",
       "      <th></th>\n",
       "      <th>Rating</th>\n",
       "      <th>CountRatings</th>\n",
       "    </tr>\n",
       "  </thead>\n",
       "  <tbody>\n",
       "    <tr>\n",
       "      <th>0</th>\n",
       "      <td>PG-13</td>\n",
       "      <td>9</td>\n",
       "    </tr>\n",
       "    <tr>\n",
       "      <th>1</th>\n",
       "      <td>PG</td>\n",
       "      <td>8</td>\n",
       "    </tr>\n",
       "    <tr>\n",
       "      <th>2</th>\n",
       "      <td>NC-17</td>\n",
       "      <td>8</td>\n",
       "    </tr>\n",
       "    <tr>\n",
       "      <th>3</th>\n",
       "      <td>G</td>\n",
       "      <td>7</td>\n",
       "    </tr>\n",
       "    <tr>\n",
       "      <th>4</th>\n",
       "      <td>R</td>\n",
       "      <td>3</td>\n",
       "    </tr>\n",
       "  </tbody>\n",
       "</table>\n",
       "</div>"
      ],
      "text/plain": [
       "  Rating  CountRatings\n",
       "0  PG-13             9\n",
       "1     PG             8\n",
       "2  NC-17             8\n",
       "3      G             7\n",
       "4      R             3"
      ]
     },
     "execution_count": 75,
     "metadata": {},
     "output_type": "execute_result"
    }
   ],
   "source": [
    "join_A = rental.join(customer, rental.c.customer_id==customer.c.customer_id)\n",
    "join_B = join_A.join(inventory, rental.c.inventory_id==inventory.c.inventory_id)\n",
    "join_C = join_B.join(film , inventory.c.film_id==film.c.film_id)\n",
    "\n",
    "_select_ = select([film.c.rating,func.count(film.c.rating).label('CountRatings')])\n",
    "join_select = _select_.select_from(join_C)\n",
    "query = join_select.where(customer.c.customer_id==368).group_by(film.c.rating).order_by(db.desc('CountRatings'))\n",
    "\n",
    "ResultProxy = cnx.execute(query)\n",
    "ResultSet = ResultProxy.fetchall()\n",
    "\n",
    "ratings_distribution = pd.DataFrame(ResultSet, columns = ['Rating','CountRatings'])\n",
    "ratings_distribution"
   ]
  },
  {
   "cell_type": "code",
   "execution_count": 76,
   "id": "developmental-payday",
   "metadata": {},
   "outputs": [
    {
     "data": {
      "image/png": "[encoded data removed]",
      "text/plain": [
       "<Figure size 432x288 with 1 Axes>"
      ]
     },
     "metadata": {},
     "output_type": "display_data"
    }
   ],
   "source": [
    "ax3 = sns.barplot(x=\"Rating\", y=\"CountRatings\", data=ratings_distribution)\n"
   ]
  },
  {
   "cell_type": "code",
   "execution_count": 77,
   "id": "assigned-sampling",
   "metadata": {},
   "outputs": [
    {
     "data": {
      "text/html": [
       "<div>\n",
       "<style scoped>\n",
       "    .dataframe tbody tr th:only-of-type {\n",
       "        vertical-align: middle;\n",
       "    }\n",
       "\n",
       "    .dataframe tbody tr th {\n",
       "        vertical-align: top;\n",
       "    }\n",
       "\n",
       "    .dataframe thead th {\n",
       "        text-align: right;\n",
       "    }\n",
       "</style>\n",
       "<table border=\"1\" class=\"dataframe\">\n",
       "  <thead>\n",
       "    <tr style=\"text-align: right;\">\n",
       "      <th></th>\n",
       "      <th>CustomerID</th>\n",
       "      <th>Rating</th>\n",
       "      <th>Description</th>\n",
       "      <th>FilmID</th>\n",
       "    </tr>\n",
       "  </thead>\n",
       "  <tbody>\n",
       "    <tr>\n",
       "      <th>0</th>\n",
       "      <td>368</td>\n",
       "      <td>PG-13</td>\n",
       "      <td>A Stunning Drama of a Teacher And a Boat who m...</td>\n",
       "      <td>690</td>\n",
       "    </tr>\n",
       "    <tr>\n",
       "      <th>1</th>\n",
       "      <td>368</td>\n",
       "      <td>PG-13</td>\n",
       "      <td>A Amazing Drama of a Car And a Squirrel who mu...</td>\n",
       "      <td>504</td>\n",
       "    </tr>\n",
       "    <tr>\n",
       "      <th>2</th>\n",
       "      <td>368</td>\n",
       "      <td>PG-13</td>\n",
       "      <td>A Amazing Drama of a Car And a Squirrel who mu...</td>\n",
       "      <td>504</td>\n",
       "    </tr>\n",
       "    <tr>\n",
       "      <th>3</th>\n",
       "      <td>368</td>\n",
       "      <td>PG-13</td>\n",
       "      <td>A Amazing Tale of a Crocodile And a Squirrel w...</td>\n",
       "      <td>219</td>\n",
       "    </tr>\n",
       "    <tr>\n",
       "      <th>4</th>\n",
       "      <td>368</td>\n",
       "      <td>PG-13</td>\n",
       "      <td>A Touching Yarn of a Frisbee And a Dentist who...</td>\n",
       "      <td>439</td>\n",
       "    </tr>\n",
       "    <tr>\n",
       "      <th>5</th>\n",
       "      <td>368</td>\n",
       "      <td>PG-13</td>\n",
       "      <td>A Thoughtful Display of a Astronaut And a Femi...</td>\n",
       "      <td>596</td>\n",
       "    </tr>\n",
       "    <tr>\n",
       "      <th>6</th>\n",
       "      <td>368</td>\n",
       "      <td>PG-13</td>\n",
       "      <td>A Unbelieveable Display of a Crocodile And a F...</td>\n",
       "      <td>922</td>\n",
       "    </tr>\n",
       "    <tr>\n",
       "      <th>7</th>\n",
       "      <td>368</td>\n",
       "      <td>PG-13</td>\n",
       "      <td>A Touching Saga of a Robot And a Boy who must ...</td>\n",
       "      <td>389</td>\n",
       "    </tr>\n",
       "    <tr>\n",
       "      <th>8</th>\n",
       "      <td>368</td>\n",
       "      <td>PG-13</td>\n",
       "      <td>A Intrepid Yarn of a Explorer And a Pastry Che...</td>\n",
       "      <td>921</td>\n",
       "    </tr>\n",
       "  </tbody>\n",
       "</table>\n",
       "</div>"
      ],
      "text/plain": [
       "   CustomerID Rating                                        Description  \\\n",
       "0         368  PG-13  A Stunning Drama of a Teacher And a Boat who m...   \n",
       "1         368  PG-13  A Amazing Drama of a Car And a Squirrel who mu...   \n",
       "2         368  PG-13  A Amazing Drama of a Car And a Squirrel who mu...   \n",
       "3         368  PG-13  A Amazing Tale of a Crocodile And a Squirrel w...   \n",
       "4         368  PG-13  A Touching Yarn of a Frisbee And a Dentist who...   \n",
       "5         368  PG-13  A Thoughtful Display of a Astronaut And a Femi...   \n",
       "6         368  PG-13  A Unbelieveable Display of a Crocodile And a F...   \n",
       "7         368  PG-13  A Touching Saga of a Robot And a Boy who must ...   \n",
       "8         368  PG-13  A Intrepid Yarn of a Explorer And a Pastry Che...   \n",
       "\n",
       "   FilmID  \n",
       "0     690  \n",
       "1     504  \n",
       "2     504  \n",
       "3     219  \n",
       "4     439  \n",
       "5     596  \n",
       "6     922  \n",
       "7     389  \n",
       "8     921  "
      ]
     },
     "execution_count": 77,
     "metadata": {},
     "output_type": "execute_result"
    }
   ],
   "source": [
    "SELECT = select([rental.c.customer_id,film.c.rating,film.c.description,film.c.film_id])\n",
    "SELECT_JOIN = SELECT.select_from(join_C)\n",
    "\n",
    "query = SELECT_JOIN.where(db.and_(rental.c.customer_id==368,film.c.rating == 'PG-13'))\n",
    "\n",
    "ResultProxy = cnx.execute(query)\n",
    "ResultSet = ResultProxy.fetchall()\n",
    "\n",
    "harrys_pg13 = pd.DataFrame(ResultSet, columns = ['CustomerID','Rating','Description','FilmID'])\n",
    "harrys_pg13"
   ]
  },
  {
   "cell_type": "code",
   "execution_count": 88,
   "id": "theoretical-element",
   "metadata": {},
   "outputs": [
    {
     "data": {
      "text/html": [
       "<div>\n",
       "<style scoped>\n",
       "    .dataframe tbody tr th:only-of-type {\n",
       "        vertical-align: middle;\n",
       "    }\n",
       "\n",
       "    .dataframe tbody tr th {\n",
       "        vertical-align: top;\n",
       "    }\n",
       "\n",
       "    .dataframe thead th {\n",
       "        text-align: right;\n",
       "    }\n",
       "</style>\n",
       "<table border=\"1\" class=\"dataframe\">\n",
       "  <thead>\n",
       "    <tr style=\"text-align: right;\">\n",
       "      <th></th>\n",
       "      <th>FilmID</th>\n",
       "      <th>Rating</th>\n",
       "      <th>Title</th>\n",
       "      <th>Description</th>\n",
       "    </tr>\n",
       "  </thead>\n",
       "  <tbody>\n",
       "    <tr>\n",
       "      <th>0</th>\n",
       "      <td>18</td>\n",
       "      <td>PG-13</td>\n",
       "      <td>ALTER VICTORY</td>\n",
       "      <td>A Thoughtful Drama of a Composer And a Feminis...</td>\n",
       "    </tr>\n",
       "    <tr>\n",
       "      <th>1</th>\n",
       "      <td>690</td>\n",
       "      <td>PG-13</td>\n",
       "      <td>POND SEATTLE</td>\n",
       "      <td>A Stunning Drama of a Teacher And a Boat who m...</td>\n",
       "    </tr>\n",
       "    <tr>\n",
       "      <th>2</th>\n",
       "      <td>712</td>\n",
       "      <td>PG-13</td>\n",
       "      <td>RAIDERS ANTITRUST</td>\n",
       "      <td>A Amazing Drama of a Teacher And a Feminist wh...</td>\n",
       "    </tr>\n",
       "  </tbody>\n",
       "</table>\n",
       "</div>"
      ],
      "text/plain": [
       "   FilmID Rating              Title  \\\n",
       "0      18  PG-13      ALTER VICTORY   \n",
       "1     690  PG-13       POND SEATTLE   \n",
       "2     712  PG-13  RAIDERS ANTITRUST   \n",
       "\n",
       "                                         Description  \n",
       "0  A Thoughtful Drama of a Composer And a Feminis...  \n",
       "1  A Stunning Drama of a Teacher And a Boat who m...  \n",
       "2  A Amazing Drama of a Teacher And a Feminist wh...  "
      ]
     },
     "execution_count": 88,
     "metadata": {},
     "output_type": "execute_result"
    }
   ],
   "source": [
    "base_query = select([film.c.film_id,film.c.rating,film.c.title,film.c.description])\n",
    "query = base_query.where(db.and_(film.c.rating=='PG-13',film.c.description.like('%drama%'),film.c.description.like('%feminist%')))\n",
    "\n",
    "ResultProxy = cnx.execute(query)\n",
    "ResultSet = ResultProxy.fetchall()\n",
    "\n",
    "harrys_new = pd.DataFrame(ResultSet, columns = ['FilmID','Rating','Title','Description'])\n",
    "harrys_new"
   ]
  },
  {
   "cell_type": "markdown",
   "id": "proud-circular",
   "metadata": {},
   "source": [
    "# Time Series Analysis\n"
   ]
  },
  {
   "cell_type": "code",
   "execution_count": 91,
   "id": "documented-words",
   "metadata": {},
   "outputs": [
    {
     "data": {
      "text/html": [
       "<div>\n",
       "<style scoped>\n",
       "    .dataframe tbody tr th:only-of-type {\n",
       "        vertical-align: middle;\n",
       "    }\n",
       "\n",
       "    .dataframe tbody tr th {\n",
       "        vertical-align: top;\n",
       "    }\n",
       "\n",
       "    .dataframe thead th {\n",
       "        text-align: right;\n",
       "    }\n",
       "</style>\n",
       "<table border=\"1\" class=\"dataframe\">\n",
       "  <thead>\n",
       "    <tr style=\"text-align: right;\">\n",
       "      <th></th>\n",
       "      <th>HR</th>\n",
       "      <th>FPH</th>\n",
       "    </tr>\n",
       "  </thead>\n",
       "  <tbody>\n",
       "    <tr>\n",
       "      <th>0</th>\n",
       "      <td>None</td>\n",
       "      <td>183</td>\n",
       "    </tr>\n",
       "    <tr>\n",
       "      <th>1</th>\n",
       "      <td>00</td>\n",
       "      <td>706</td>\n",
       "    </tr>\n",
       "    <tr>\n",
       "      <th>2</th>\n",
       "      <td>01</td>\n",
       "      <td>668</td>\n",
       "    </tr>\n",
       "    <tr>\n",
       "      <th>3</th>\n",
       "      <td>02</td>\n",
       "      <td>649</td>\n",
       "    </tr>\n",
       "    <tr>\n",
       "      <th>4</th>\n",
       "      <td>03</td>\n",
       "      <td>644</td>\n",
       "    </tr>\n",
       "    <tr>\n",
       "      <th>5</th>\n",
       "      <td>04</td>\n",
       "      <td>677</td>\n",
       "    </tr>\n",
       "    <tr>\n",
       "      <th>6</th>\n",
       "      <td>05</td>\n",
       "      <td>683</td>\n",
       "    </tr>\n",
       "    <tr>\n",
       "      <th>7</th>\n",
       "      <td>06</td>\n",
       "      <td>676</td>\n",
       "    </tr>\n",
       "    <tr>\n",
       "      <th>8</th>\n",
       "      <td>07</td>\n",
       "      <td>685</td>\n",
       "    </tr>\n",
       "    <tr>\n",
       "      <th>9</th>\n",
       "      <td>08</td>\n",
       "      <td>641</td>\n",
       "    </tr>\n",
       "    <tr>\n",
       "      <th>10</th>\n",
       "      <td>09</td>\n",
       "      <td>666</td>\n",
       "    </tr>\n",
       "    <tr>\n",
       "      <th>11</th>\n",
       "      <td>10</td>\n",
       "      <td>653</td>\n",
       "    </tr>\n",
       "    <tr>\n",
       "      <th>12</th>\n",
       "      <td>11</td>\n",
       "      <td>659</td>\n",
       "    </tr>\n",
       "    <tr>\n",
       "      <th>13</th>\n",
       "      <td>12</td>\n",
       "      <td>624</td>\n",
       "    </tr>\n",
       "    <tr>\n",
       "      <th>14</th>\n",
       "      <td>13</td>\n",
       "      <td>614</td>\n",
       "    </tr>\n",
       "    <tr>\n",
       "      <th>15</th>\n",
       "      <td>14</td>\n",
       "      <td>637</td>\n",
       "    </tr>\n",
       "    <tr>\n",
       "      <th>16</th>\n",
       "      <td>15</td>\n",
       "      <td>661</td>\n",
       "    </tr>\n",
       "    <tr>\n",
       "      <th>17</th>\n",
       "      <td>16</td>\n",
       "      <td>688</td>\n",
       "    </tr>\n",
       "    <tr>\n",
       "      <th>18</th>\n",
       "      <td>17</td>\n",
       "      <td>633</td>\n",
       "    </tr>\n",
       "    <tr>\n",
       "      <th>19</th>\n",
       "      <td>18</td>\n",
       "      <td>688</td>\n",
       "    </tr>\n",
       "    <tr>\n",
       "      <th>20</th>\n",
       "      <td>19</td>\n",
       "      <td>682</td>\n",
       "    </tr>\n",
       "    <tr>\n",
       "      <th>21</th>\n",
       "      <td>20</td>\n",
       "      <td>663</td>\n",
       "    </tr>\n",
       "    <tr>\n",
       "      <th>22</th>\n",
       "      <td>21</td>\n",
       "      <td>664</td>\n",
       "    </tr>\n",
       "    <tr>\n",
       "      <th>23</th>\n",
       "      <td>22</td>\n",
       "      <td>647</td>\n",
       "    </tr>\n",
       "    <tr>\n",
       "      <th>24</th>\n",
       "      <td>23</td>\n",
       "      <td>653</td>\n",
       "    </tr>\n",
       "  </tbody>\n",
       "</table>\n",
       "</div>"
      ],
      "text/plain": [
       "      HR  FPH\n",
       "0   None  183\n",
       "1     00  706\n",
       "2     01  668\n",
       "3     02  649\n",
       "4     03  644\n",
       "5     04  677\n",
       "6     05  683\n",
       "7     06  676\n",
       "8     07  685\n",
       "9     08  641\n",
       "10    09  666\n",
       "11    10  653\n",
       "12    11  659\n",
       "13    12  624\n",
       "14    13  614\n",
       "15    14  637\n",
       "16    15  661\n",
       "17    16  688\n",
       "18    17  633\n",
       "19    18  688\n",
       "20    19  682\n",
       "21    20  663\n",
       "22    21  664\n",
       "23    22  647\n",
       "24    23  653"
      ]
     },
     "execution_count": 91,
     "metadata": {},
     "output_type": "execute_result"
    }
   ],
   "source": [
    "base_query = select([func.strftime('%H',rental.c.return_date).label('HR'),func.count(rental.c.customer_id)])\n",
    "query = base_query.group_by('HR')\n",
    "ResultProxy = cnx.execute(query)\n",
    "ResultSet = ResultProxy.fetchall()\n",
    "\n",
    "rental_dates = pd.DataFrame(ResultSet, columns = ['HR','FPH'])\n",
    "rental_dates\n"
   ]
  },
  {
   "cell_type": "code",
   "execution_count": 93,
   "id": "statewide-ozone",
   "metadata": {},
   "outputs": [
    {
     "data": {
      "image/png": "[encoded data removed]",
      "text/plain": [
       "<Figure size 432x288 with 1 Axes>"
      ]
     },
     "metadata": {},
     "output_type": "display_data"
    }
   ],
   "source": [
    "ax = sns.lineplot(x='HR',y='FPH',data=rental_dates[1:])"
   ]
  },
  {
   "cell_type": "markdown",
   "id": "potential-background",
   "metadata": {},
   "source": [
    "# Top 10 customer shoppin patterns \n"
   ]
  },
  {
   "cell_type": "code",
   "execution_count": 187,
   "id": "successful-tender",
   "metadata": {},
   "outputs": [],
   "source": [
    "customer_ids = [148,526,144,236,75,197,469,137,178,468]\n",
    "\n",
    "def get_top_10(customer_ids):\n",
    "    customer_plots = []\n",
    "    for i in range(len(customer_id)):\n",
    "        base_query = select([func.strftime('%H',rental.c.rental_date).label('HR'),func.count(rental.c.customer_id)])\n",
    "        query = base_query.where(rental.c.customer_id == customer_id[i]).group_by('HR')\n",
    "\n",
    "        ResultProxy = cnx.execute(query)\n",
    "        ResultSet = ResultProxy.fetchall()\n",
    "    \n",
    "        customer_plot = pd.DataFrame(ResultSet, columns = ['HR','FPH{}'.format(customer_id[i])])\n",
    "        customer_plots.append(customer_plot)\n",
    "    \n",
    "    return customer_plots\n",
    "\n",
    "plots = get_top_10(customer_ids)\n",
    "\n",
    "def get_top_10_average(customer_ids):\n",
    "    base_query = select([func.strftime('%H',rental.c.rental_date).label('HR'),func.count(rental.c.customer_id)])\n",
    "    query = base_query.where(rental.c.customer_id.in_(customer_ids)).group_by('HR')\n",
    "    \n",
    "    ResultProxy = cnx.execute(query)\n",
    "    ResultSet = ResultProxy.fetchall()\n",
    "    \n",
    "    top_10_count = pd.DataFrame(ResultSet,columns= ['HR','FPH'])\n",
    "    return top_10_count\n",
    "\n",
    "top_10_count = get_top_10_average(customer_ids)\n",
    "#top_10_count\n",
    "\n",
    "\n",
    "    \n",
    "    \n",
    "    "
   ]
  },
  {
   "cell_type": "code",
   "execution_count": 202,
   "id": "technological-ordering",
   "metadata": {},
   "outputs": [
    {
     "data": {
      "image/png": "[encoded data removed]",
      "text/plain": [
       "<Figure size 936x576 with 1 Axes>"
      ]
     },
     "metadata": {},
     "output_type": "display_data"
    }
   ],
   "source": [
    "import matplotlib.pyplot as plt\n",
    "\n",
    "ax = sns.lineplot(x='HR',y='FPH', data= top_10_count,marker='*')\n",
    "for x,y in zip(top_10_count['HR'],top_10_count['FPH']):\n",
    "  \n",
    "    plt.text(x=x,y=y,s='{:.0f}'.format(y),color='white').set_backgroundcolor('#965786')"
   ]
  },
  {
   "cell_type": "markdown",
   "id": "private-brake",
   "metadata": {},
   "source": [
    "# More fun with timestamps"
   ]
  },
  {
   "cell_type": "code",
   "execution_count": 211,
   "id": "changing-venue",
   "metadata": {},
   "outputs": [],
   "source": [
    "base_query = select([func.strftime('%Y-%m-%d',rental.c.rental_date),func.strftime('%H',rental.c.rental_date).label('H'),func.count(rental.c.customer_id)])\n",
    "query = base_query.where(db.and_(func.strftime('%Y',rental.c.rental_date)== '2005',func.strftime('%m',rental.c.rental_date)=='08')).group_by(func.strftime('%d',rental.c.rental_date),'H')\n",
    "\n",
    "ResultProxy = cnx.execute(query)\n",
    "ResultSet = ResultProxy.fetchall()\n",
    "\n",
    "august = pd.DataFrame(ResultSet,columns = ['Day','Hour','CPH'])\n",
    "\n"
   ]
  },
  {
   "cell_type": "code",
   "execution_count": 230,
   "id": "incoming-agenda",
   "metadata": {},
   "outputs": [
    {
     "data": {
      "image/png": "[encoded data removed]",
      "text/plain": [
       "<Figure size 936x576 with 1 Axes>"
      ]
     },
     "metadata": {},
     "output_type": "display_data"
    }
   ],
   "source": [
    "ax = sns.lineplot(x='Hour',y='CPH', data= august[:24],marker='*')\n",
    "ax = sns.lineplot(x= 'Hour',y='CPH', data= august[24:48],marker = '*')\n",
    "ax = sns.lineplot(x= 'Hour',y='CPH', data= august[48:72],marker = '*')\n",
    "#ax = sns.lineplot(x='Hour',y='CPH', data=august[72:96],marker = '*')\n",
    "#ax = sns.lineplot(x='Hour',y='CPH', data=august[96:120],marker = '*')\n",
    "#ax = sns.lineplot(x='Hour',y='CPH', data=august[120:144],marker = '*')\n",
    "\n"
   ]
  },
  {
   "cell_type": "code",
   "execution_count": 235,
   "id": "three-billy",
   "metadata": {},
   "outputs": [
    {
     "data": {
      "text/plain": [
       "Table('payment', MetaData(bind=None), Column('payment_id', INTEGER(), table=<payment>, primary_key=True, nullable=False), Column('customer_id', INTEGER(), ForeignKey('customer.customer_id'), table=<payment>, nullable=False), Column('staff_id', SMALLINT(), ForeignKey('staff.staff_id'), table=<payment>, nullable=False), Column('rental_id', INTEGER(), ForeignKey('rental.rental_id'), table=<payment>, server_default=DefaultClause(<sqlalchemy.sql.elements.TextClause object at 0x16656fc70>, for_update=False)), Column('amount', DECIMAL(precision=5, scale=2), table=<payment>, nullable=False), Column('payment_date', TIMESTAMP(), table=<payment>, nullable=False), Column('last_update', TIMESTAMP(), table=<payment>, nullable=False), schema=None)"
      ]
     },
     "execution_count": 235,
     "metadata": {},
     "output_type": "execute_result"
    }
   ],
   "source": [
    "# defining payment table\n",
    "payment =_tables[12]\n",
    "#payment"
   ]
  },
  {
   "cell_type": "code",
   "execution_count": 236,
   "id": "mineral-blanket",
   "metadata": {},
   "outputs": [
    {
     "data": {
      "text/html": [
       "<div>\n",
       "<style scoped>\n",
       "    .dataframe tbody tr th:only-of-type {\n",
       "        vertical-align: middle;\n",
       "    }\n",
       "\n",
       "    .dataframe tbody tr th {\n",
       "        vertical-align: top;\n",
       "    }\n",
       "\n",
       "    .dataframe thead th {\n",
       "        text-align: right;\n",
       "    }\n",
       "</style>\n",
       "<table border=\"1\" class=\"dataframe\">\n",
       "  <thead>\n",
       "    <tr style=\"text-align: right;\">\n",
       "      <th></th>\n",
       "      <th>Title</th>\n",
       "      <th>Description</th>\n",
       "      <th>Rating</th>\n",
       "    </tr>\n",
       "  </thead>\n",
       "  <tbody>\n",
       "    <tr>\n",
       "      <th>0</th>\n",
       "      <td>ACADEMY DINOSAUR</td>\n",
       "      <td>A Epic Drama of a Feminist And a Mad Scientist...</td>\n",
       "      <td>PG</td>\n",
       "    </tr>\n",
       "    <tr>\n",
       "      <th>1</th>\n",
       "      <td>ACE GOLDFINGER</td>\n",
       "      <td>A Astounding Epistle of a Database Administrat...</td>\n",
       "      <td>G</td>\n",
       "    </tr>\n",
       "    <tr>\n",
       "      <th>2</th>\n",
       "      <td>ADAPTATION HOLES</td>\n",
       "      <td>A Astounding Reflection of a Lumberjack And a ...</td>\n",
       "      <td>NC-17</td>\n",
       "    </tr>\n",
       "    <tr>\n",
       "      <th>3</th>\n",
       "      <td>AFFAIR PREJUDICE</td>\n",
       "      <td>A Fanciful Documentary of a Frisbee And a Lumb...</td>\n",
       "      <td>G</td>\n",
       "    </tr>\n",
       "    <tr>\n",
       "      <th>4</th>\n",
       "      <td>AFRICAN EGG</td>\n",
       "      <td>A Fast-Paced Documentary of a Pastry Chef And ...</td>\n",
       "      <td>G</td>\n",
       "    </tr>\n",
       "  </tbody>\n",
       "</table>\n",
       "</div>"
      ],
      "text/plain": [
       "              Title                                        Description Rating\n",
       "0  ACADEMY DINOSAUR  A Epic Drama of a Feminist And a Mad Scientist...     PG\n",
       "1    ACE GOLDFINGER  A Astounding Epistle of a Database Administrat...      G\n",
       "2  ADAPTATION HOLES  A Astounding Reflection of a Lumberjack And a ...  NC-17\n",
       "3  AFFAIR PREJUDICE  A Fanciful Documentary of a Frisbee And a Lumb...      G\n",
       "4       AFRICAN EGG  A Fast-Paced Documentary of a Pastry Chef And ...      G"
      ]
     },
     "execution_count": 236,
     "metadata": {},
     "output_type": "execute_result"
    }
   ],
   "source": [
    "query = select([film.c.title, film.c.description,film.c.rating])\n",
    "ResultProxy = cnx.execute(query)\n",
    "ResultSet = ResultProxy.fetchall()\n",
    "\n",
    "film_descriptions = pd.DataFrame(ResultSet,columns = ['Title','Description','Rating'])\n",
    "film_descriptions.head()"
   ]
  },
  {
   "cell_type": "code",
   "execution_count": 84,
   "id": "massive-meaning",
   "metadata": {},
   "outputs": [
    {
     "data": {
      "text/plain": [
       "'A Astounding Reflection of a Lumberjack And a Car who must Sink a Lumberjack in A Baloon Factory'"
      ]
     },
     "execution_count": 84,
     "metadata": {},
     "output_type": "execute_result"
    }
   ],
   "source": [
    "film_descriptions['Description'][2]"
   ]
  },
  {
   "cell_type": "code",
   "execution_count": null,
   "id": "assured-dancing",
   "metadata": {},
   "outputs": [],
   "source": []
  }
 ],
 "metadata": {
  "kernelspec": {
   "display_name": "Python [conda env:metis] *",
   "language": "python",
   "name": "conda-env-metis-py"
  },
  "language_info": {
   "codemirror_mode": {
    "name": "ipython",
    "version": 3
   },
   "file_extension": ".py",
   "mimetype": "text/x-python",
   "name": "python",
   "nbconvert_exporter": "python",
   "pygments_lexer": "ipython3",
   "version": "3.8.8"
  }
 },
 "nbformat": 4,
 "nbformat_minor": 5
}
