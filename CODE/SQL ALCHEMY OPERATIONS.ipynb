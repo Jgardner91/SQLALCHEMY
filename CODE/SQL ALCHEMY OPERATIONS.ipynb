{
 "cells": [
  {
   "cell_type": "code",
   "execution_count": 1,
   "id": "sweet-damage",
   "metadata": {},
   "outputs": [],
   "source": [
    "import pandas as pd \n",
    "import sqlalchemy as db\n",
    "from sqlalchemy import create_engine\n",
    "from sqlalchemy import join\n",
    "from sqlalchemy.sql import select"
   ]
  },
  {
   "cell_type": "markdown",
   "id": "fantastic-hebrew",
   "metadata": {},
   "source": [
    "#  Flow \n",
    "1. Create an engine object that connects to database. Passing database path through. \n",
    "2. Call .connect() method on object \n",
    "3. Instantiate MetaData() object\n",
    "4. Explore Database columns, and tables \n",
    "4. Connect to specific Table in data base with Table Method \n",
    "5. Write/Run queries "
   ]
  },
  {
   "cell_type": "markdown",
   "id": "combined-prescription",
   "metadata": {},
   "source": [
    "## Start"
   ]
  },
  {
   "cell_type": "code",
   "execution_count": 2,
   "id": "australian-struggle",
   "metadata": {},
   "outputs": [],
   "source": [
    "# instantiating connection and metadata objects \n",
    "engine = create_engine('sqlite:///sqlite-sakila.db')\n",
    "cnx = engine.connect()\n",
    "metadata = db.MetaData()\n"
   ]
  },
  {
   "cell_type": "markdown",
   "id": "faced-heather",
   "metadata": {},
   "source": [
    "## Exploring Database structure"
   ]
  },
  {
   "cell_type": "code",
   "execution_count": 3,
   "id": "czech-hughes",
   "metadata": {},
   "outputs": [
    {
     "data": {
      "text/plain": [
       "Table('actor', MetaData(bind=None), Column('actor_id', NUMERIC(), table=<actor>, primary_key=True, nullable=False), Column('first_name', VARCHAR(length=45), table=<actor>, nullable=False), Column('last_name', VARCHAR(length=45), table=<actor>, nullable=False), Column('last_update', TIMESTAMP(), table=<actor>, nullable=False), schema=None)"
      ]
     },
     "execution_count": 3,
     "metadata": {},
     "output_type": "execute_result"
    }
   ],
   "source": [
    "# finding table names \n",
    "table_names = engine.table_names()\n",
    "\n",
    "# find the column names for all tables \n",
    "\n",
    "def connect_to_table(cnx):\n",
    "    tables = []\n",
    "    \n",
    "    for table in table_names:\n",
    "        tbl = db.Table(table,metadata,autoload=True,autoload_with=cnx)\n",
    "        tables.append(tbl)\n",
    "    return tables \n",
    "\n",
    "_tables = connect_to_table(cnx)\n",
    "_tables[0]"
   ]
  },
  {
   "cell_type": "code",
   "execution_count": 4,
   "id": "affiliated-catholic",
   "metadata": {},
   "outputs": [
    {
     "data": {
      "text/plain": [
       "['film_id',\n",
       " 'title',\n",
       " 'description',\n",
       " 'release_year',\n",
       " 'language_id',\n",
       " 'original_language_id',\n",
       " 'rental_duration',\n",
       " 'rental_rate',\n",
       " 'length',\n",
       " 'replacement_cost',\n",
       " 'rating',\n",
       " 'special_features',\n",
       " 'last_update']"
      ]
     },
     "execution_count": 4,
     "metadata": {},
     "output_type": "execute_result"
    }
   ],
   "source": [
    "def get_column_names(_tables,table_names):\n",
    "    table_columns = {}\n",
    "    i = 0\n",
    "    for tbl in _tables:\n",
    "        table_columns[table_names[i]] = [c.name for c in tbl.columns]\n",
    "        i += 1\n",
    "    return table_columns \n",
    "\n",
    "TN_CN = get_column_names(_tables,table_names)\n",
    "TN_CN['film']"
   ]
  },
  {
   "cell_type": "markdown",
   "id": "growing-commercial",
   "metadata": {},
   "source": [
    "## The SELECT Statement \n",
    "*We actually connected to all the tables in the function connect_to_table, but lets rename them becasue right now they are stored as a list of table objects.*\n",
    "\n",
    "1. Lets show the title and description of a film from the table 'film' "
   ]
  },
  {
   "cell_type": "code",
   "execution_count": 5,
   "id": "joint-therapy",
   "metadata": {},
   "outputs": [
    {
     "data": {
      "text/html": [
       "<div>\n",
       "<style scoped>\n",
       "    .dataframe tbody tr th:only-of-type {\n",
       "        vertical-align: middle;\n",
       "    }\n",
       "\n",
       "    .dataframe tbody tr th {\n",
       "        vertical-align: top;\n",
       "    }\n",
       "\n",
       "    .dataframe thead th {\n",
       "        text-align: right;\n",
       "    }\n",
       "</style>\n",
       "<table border=\"1\" class=\"dataframe\">\n",
       "  <thead>\n",
       "    <tr style=\"text-align: right;\">\n",
       "      <th></th>\n",
       "      <th>TITLE</th>\n",
       "      <th>DESCRIPTION</th>\n",
       "      <th>MOVIE LENGTH</th>\n",
       "      <th>RATING</th>\n",
       "    </tr>\n",
       "  </thead>\n",
       "  <tbody>\n",
       "    <tr>\n",
       "      <th>0</th>\n",
       "      <td>ACADEMY DINOSAUR</td>\n",
       "      <td>A Epic Drama of a Feminist And a Mad Scientist...</td>\n",
       "      <td>86</td>\n",
       "      <td>PG</td>\n",
       "    </tr>\n",
       "    <tr>\n",
       "      <th>1</th>\n",
       "      <td>ACE GOLDFINGER</td>\n",
       "      <td>A Astounding Epistle of a Database Administrat...</td>\n",
       "      <td>48</td>\n",
       "      <td>G</td>\n",
       "    </tr>\n",
       "    <tr>\n",
       "      <th>2</th>\n",
       "      <td>ADAPTATION HOLES</td>\n",
       "      <td>A Astounding Reflection of a Lumberjack And a ...</td>\n",
       "      <td>50</td>\n",
       "      <td>NC-17</td>\n",
       "    </tr>\n",
       "    <tr>\n",
       "      <th>3</th>\n",
       "      <td>AFFAIR PREJUDICE</td>\n",
       "      <td>A Fanciful Documentary of a Frisbee And a Lumb...</td>\n",
       "      <td>117</td>\n",
       "      <td>G</td>\n",
       "    </tr>\n",
       "    <tr>\n",
       "      <th>4</th>\n",
       "      <td>AFRICAN EGG</td>\n",
       "      <td>A Fast-Paced Documentary of a Pastry Chef And ...</td>\n",
       "      <td>130</td>\n",
       "      <td>G</td>\n",
       "    </tr>\n",
       "  </tbody>\n",
       "</table>\n",
       "</div>"
      ],
      "text/plain": [
       "              TITLE                                        DESCRIPTION  \\\n",
       "0  ACADEMY DINOSAUR  A Epic Drama of a Feminist And a Mad Scientist...   \n",
       "1    ACE GOLDFINGER  A Astounding Epistle of a Database Administrat...   \n",
       "2  ADAPTATION HOLES  A Astounding Reflection of a Lumberjack And a ...   \n",
       "3  AFFAIR PREJUDICE  A Fanciful Documentary of a Frisbee And a Lumb...   \n",
       "4       AFRICAN EGG  A Fast-Paced Documentary of a Pastry Chef And ...   \n",
       "\n",
       "   MOVIE LENGTH RATING  \n",
       "0            86     PG  \n",
       "1            48      G  \n",
       "2            50  NC-17  \n",
       "3           117      G  \n",
       "4           130      G  "
      ]
     },
     "execution_count": 5,
     "metadata": {},
     "output_type": "execute_result"
    }
   ],
   "source": [
    "# lets use the 'film' table to run our first query \n",
    "# renaming object so we dont have to reference it by list index \n",
    "\n",
    "film = _tables[6]\n",
    "\n",
    "SELECT_query = db.select([film.columns['title'],film.columns['description'],film.columns['length'],film.columns['rating']])\n",
    "ResultProxy = cnx.execute(SELECT_query)\n",
    "ResultSet = ResultProxy.fetchall()\n",
    "\n",
    "#showing results in a dataframe \n",
    "select_ = pd.DataFrame(ResultSet, columns = ['TITLE','DESCRIPTION','MOVIE LENGTH','RATING'])\n",
    "select_.head()"
   ]
  },
  {
   "cell_type": "markdown",
   "id": "million-outdoors",
   "metadata": {},
   "source": [
    "## The SELECT Statement with LIKE\n",
    "Lets augment the above query 'SELECT_query' and filter with LIKE and WHERE\n",
    "\n",
    "In this query we want to see all titles films that have Dinosaur in the title. Maybe our kid really loves dinosours. "
   ]
  },
  {
   "cell_type": "code",
   "execution_count": 6,
   "id": "ceramic-ballet",
   "metadata": {},
   "outputs": [
    {
     "data": {
      "text/html": [
       "<div>\n",
       "<style scoped>\n",
       "    .dataframe tbody tr th:only-of-type {\n",
       "        vertical-align: middle;\n",
       "    }\n",
       "\n",
       "    .dataframe tbody tr th {\n",
       "        vertical-align: top;\n",
       "    }\n",
       "\n",
       "    .dataframe thead th {\n",
       "        text-align: right;\n",
       "    }\n",
       "</style>\n",
       "<table border=\"1\" class=\"dataframe\">\n",
       "  <thead>\n",
       "    <tr style=\"text-align: right;\">\n",
       "      <th></th>\n",
       "      <th>TITLE</th>\n",
       "      <th>DESCRIPTION</th>\n",
       "      <th>MOVIE LENGTH</th>\n",
       "      <th>RATING</th>\n",
       "    </tr>\n",
       "  </thead>\n",
       "  <tbody>\n",
       "    <tr>\n",
       "      <th>0</th>\n",
       "      <td>ACADEMY DINOSAUR</td>\n",
       "      <td>A Epic Drama of a Feminist And a Mad Scientist...</td>\n",
       "      <td>86</td>\n",
       "      <td>PG</td>\n",
       "    </tr>\n",
       "    <tr>\n",
       "      <th>1</th>\n",
       "      <td>CENTER DINOSAUR</td>\n",
       "      <td>A Beautiful Character Study of a Sumo Wrestler...</td>\n",
       "      <td>152</td>\n",
       "      <td>PG</td>\n",
       "    </tr>\n",
       "    <tr>\n",
       "      <th>2</th>\n",
       "      <td>DINOSAUR SECRETARY</td>\n",
       "      <td>A Action-Packed Drama of a Feminist And a Girl...</td>\n",
       "      <td>63</td>\n",
       "      <td>R</td>\n",
       "    </tr>\n",
       "  </tbody>\n",
       "</table>\n",
       "</div>"
      ],
      "text/plain": [
       "                TITLE                                        DESCRIPTION  \\\n",
       "0    ACADEMY DINOSAUR  A Epic Drama of a Feminist And a Mad Scientist...   \n",
       "1     CENTER DINOSAUR  A Beautiful Character Study of a Sumo Wrestler...   \n",
       "2  DINOSAUR SECRETARY  A Action-Packed Drama of a Feminist And a Girl...   \n",
       "\n",
       "   MOVIE LENGTH RATING  \n",
       "0            86     PG  \n",
       "1           152     PG  \n",
       "2            63      R  "
      ]
     },
     "execution_count": 6,
     "metadata": {},
     "output_type": "execute_result"
    }
   ],
   "source": [
    "SELECT_LIKE_query = SELECT_query.where(film.columns['title'].like(\"%Dinosaur%\"))\n",
    "ResultProxy = cnx.execute(SELECT_LIKE_query)\n",
    "ResultSet = ResultProxy.fetchall()\n",
    "\n",
    "select_like = pd.DataFrame(ResultSet, columns = ['TITLE','DESCRIPTION','MOVIE LENGTH','RATING'])\n",
    "select_like.head()"
   ]
  },
  {
   "cell_type": "markdown",
   "id": "ethical-stock",
   "metadata": {},
   "source": [
    "## The AND statement\n",
    "Ok we were able to find all films that have dinasour in the title, but as you can see above one of the films returned a rated R rating. So lets see if we can Now expand our query to show only pg films that have a run time less than 90mins\n"
   ]
  },
  {
   "cell_type": "code",
   "execution_count": 7,
   "id": "southern-alias",
   "metadata": {},
   "outputs": [
    {
     "name": "stdout",
     "output_type": "stream",
     "text": [
      "Movie Description:  A Epic Drama of a Feminist And a Mad Scientist who must Battle a Teacher in The Canadian Rockies\n"
     ]
    },
    {
     "data": {
      "text/html": [
       "<div>\n",
       "<style scoped>\n",
       "    .dataframe tbody tr th:only-of-type {\n",
       "        vertical-align: middle;\n",
       "    }\n",
       "\n",
       "    .dataframe tbody tr th {\n",
       "        vertical-align: top;\n",
       "    }\n",
       "\n",
       "    .dataframe thead th {\n",
       "        text-align: right;\n",
       "    }\n",
       "</style>\n",
       "<table border=\"1\" class=\"dataframe\">\n",
       "  <thead>\n",
       "    <tr style=\"text-align: right;\">\n",
       "      <th></th>\n",
       "      <th>TITLE</th>\n",
       "      <th>DESCRIPTION</th>\n",
       "      <th>MOVIE LENGTH</th>\n",
       "      <th>RATING</th>\n",
       "    </tr>\n",
       "  </thead>\n",
       "  <tbody>\n",
       "    <tr>\n",
       "      <th>0</th>\n",
       "      <td>ACADEMY DINOSAUR</td>\n",
       "      <td>A Epic Drama of a Feminist And a Mad Scientist...</td>\n",
       "      <td>86</td>\n",
       "      <td>PG</td>\n",
       "    </tr>\n",
       "  </tbody>\n",
       "</table>\n",
       "</div>"
      ],
      "text/plain": [
       "              TITLE                                        DESCRIPTION  \\\n",
       "0  ACADEMY DINOSAUR  A Epic Drama of a Feminist And a Mad Scientist...   \n",
       "\n",
       "   MOVIE LENGTH RATING  \n",
       "0            86     PG  "
      ]
     },
     "execution_count": 7,
     "metadata": {},
     "output_type": "execute_result"
    }
   ],
   "source": [
    "#writing/executing query\n",
    "SELECT_LIKE_AND_query = SELECT_query.where(db.and_(film.columns['title'].like('%Dinosaur%'),film.columns['rating'] == 'PG',film.columns['length']<=90))\n",
    "ResultProxy = cnx.execute(SELECT_LIKE_AND_query)\n",
    "ResultSet = ResultProxy.fetchall()\n",
    "\n",
    "# results in dataframe\n",
    "select_like_and = pd.DataFrame(ResultSet, columns = ['TITLE','DESCRIPTION','MOVIE LENGTH','RATING'])\n",
    "\n",
    "print('Movie Description: ',select_like_and['DESCRIPTION'][0])\n",
    "select_like_and"
   ]
  },
  {
   "cell_type": "markdown",
   "id": "military-scholar",
   "metadata": {},
   "source": [
    "## GROUP BY and COUNT\n",
    "Letes use group by to look at the distributing of rating type that this store offers, to see if there are enough PG titles to justify shopping here.\n",
    "\n",
    "We also need to import 'func' from the sqlalchemy library"
   ]
  },
  {
   "cell_type": "code",
   "execution_count": 8,
   "id": "absent-cooperative",
   "metadata": {},
   "outputs": [
    {
     "data": {
      "text/html": [
       "<div>\n",
       "<style scoped>\n",
       "    .dataframe tbody tr th:only-of-type {\n",
       "        vertical-align: middle;\n",
       "    }\n",
       "\n",
       "    .dataframe tbody tr th {\n",
       "        vertical-align: top;\n",
       "    }\n",
       "\n",
       "    .dataframe thead th {\n",
       "        text-align: right;\n",
       "    }\n",
       "</style>\n",
       "<table border=\"1\" class=\"dataframe\">\n",
       "  <thead>\n",
       "    <tr style=\"text-align: right;\">\n",
       "      <th></th>\n",
       "      <th>Rating Type</th>\n",
       "      <th>Num Per Rating</th>\n",
       "    </tr>\n",
       "  </thead>\n",
       "  <tbody>\n",
       "    <tr>\n",
       "      <th>0</th>\n",
       "      <td>PG-13</td>\n",
       "      <td>223</td>\n",
       "    </tr>\n",
       "    <tr>\n",
       "      <th>1</th>\n",
       "      <td>NC-17</td>\n",
       "      <td>210</td>\n",
       "    </tr>\n",
       "    <tr>\n",
       "      <th>2</th>\n",
       "      <td>R</td>\n",
       "      <td>195</td>\n",
       "    </tr>\n",
       "    <tr>\n",
       "      <th>3</th>\n",
       "      <td>PG</td>\n",
       "      <td>194</td>\n",
       "    </tr>\n",
       "    <tr>\n",
       "      <th>4</th>\n",
       "      <td>G</td>\n",
       "      <td>178</td>\n",
       "    </tr>\n",
       "  </tbody>\n",
       "</table>\n",
       "</div>"
      ],
      "text/plain": [
       "  Rating Type  Num Per Rating\n",
       "0       PG-13             223\n",
       "1       NC-17             210\n",
       "2           R             195\n",
       "3          PG             194\n",
       "4           G             178"
      ]
     },
     "execution_count": 8,
     "metadata": {},
     "output_type": "execute_result"
    }
   ],
   "source": [
    "from sqlalchemy import func\n",
    "#importing seaborn library for plotting results\n",
    "import seaborn as sns\n",
    "\n",
    "select_ = db.select([film.columns['rating'],func.count(film.columns['rating']).label('RATING')])\n",
    "select_group_by = select_.group_by(film.columns['rating']).order_by(db.desc('RATING'))\n",
    "\n",
    "ResultProxy = cnx.execute(select_group_by)\n",
    "ResultSet = ResultProxy.fetchall()\n",
    "\n",
    "ratings_distribution = pd.DataFrame(ResultSet, columns = ['Rating Type','Num Per Rating'])\n",
    "ratings_distribution"
   ]
  },
  {
   "cell_type": "code",
   "execution_count": 9,
   "id": "bottom-principal",
   "metadata": {},
   "outputs": [
    {
     "data": {
      "image/png": "[encoded data removed]",
      "text/plain": [
       "<Figure size 432x288 with 1 Axes>"
      ]
     },
     "metadata": {
      "needs_background": "light"
     },
     "output_type": "display_data"
    }
   ],
   "source": [
    "ax = sns.barplot( x = 'Rating Type',y='Num Per Rating',data=ratings_distribution)"
   ]
  },
  {
   "cell_type": "markdown",
   "id": "featured-knowing",
   "metadata": {},
   "source": [
    "## The JOIN operation \n",
    "Finally lets flex our muscles with SQL alchemy a little bit and see if we can use the join statement to settle a customer dispute. A customer, call her Charlotte is disputing an accusation that she didn't return a film she rented. The clerk currently on shift was not at the store when she claimed to have returned the film. So we need to track down the customer name, the rental date, the claimed return date, the employee on shift at the time and the film title. Lets see if we can do this with SQL Alchemy,"
   ]
  },
  {
   "cell_type": "code",
   "execution_count": 16,
   "id": "individual-acting",
   "metadata": {},
   "outputs": [
    {
     "data": {
      "text/html": [
       "<div>\n",
       "<style scoped>\n",
       "    .dataframe tbody tr th:only-of-type {\n",
       "        vertical-align: middle;\n",
       "    }\n",
       "\n",
       "    .dataframe tbody tr th {\n",
       "        vertical-align: top;\n",
       "    }\n",
       "\n",
       "    .dataframe thead th {\n",
       "        text-align: right;\n",
       "    }\n",
       "</style>\n",
       "<table border=\"1\" class=\"dataframe\">\n",
       "  <thead>\n",
       "    <tr style=\"text-align: right;\">\n",
       "      <th></th>\n",
       "      <th>Name</th>\n",
       "      <th>Rental_Date</th>\n",
       "      <th>Return_Date</th>\n",
       "      <th>Customer ID</th>\n",
       "      <th>Staff ID</th>\n",
       "      <th>Film ID</th>\n",
       "    </tr>\n",
       "  </thead>\n",
       "  <tbody>\n",
       "    <tr>\n",
       "      <th>0</th>\n",
       "      <td>CHARLOTTE</td>\n",
       "      <td>130</td>\n",
       "      <td>2005-05-24 22:53:30</td>\n",
       "      <td>2005-05-26 22:04:30</td>\n",
       "      <td>1</td>\n",
       "      <td>367</td>\n",
       "    </tr>\n",
       "    <tr>\n",
       "      <th>1</th>\n",
       "      <td>CHARLOTTE</td>\n",
       "      <td>130</td>\n",
       "      <td>2005-05-29 09:25:10</td>\n",
       "      <td>2005-06-02 04:20:10</td>\n",
       "      <td>2</td>\n",
       "      <td>4272</td>\n",
       "    </tr>\n",
       "    <tr>\n",
       "      <th>2</th>\n",
       "      <td>CHARLOTTE</td>\n",
       "      <td>130</td>\n",
       "      <td>2005-06-16 07:55:01</td>\n",
       "      <td>2005-06-19 06:38:01</td>\n",
       "      <td>1</td>\n",
       "      <td>2413</td>\n",
       "    </tr>\n",
       "    <tr>\n",
       "      <th>3</th>\n",
       "      <td>CHARLOTTE</td>\n",
       "      <td>130</td>\n",
       "      <td>2005-06-17 01:39:47</td>\n",
       "      <td>2005-06-24 19:39:47</td>\n",
       "      <td>2</td>\n",
       "      <td>1815</td>\n",
       "    </tr>\n",
       "    <tr>\n",
       "      <th>4</th>\n",
       "      <td>CHARLOTTE</td>\n",
       "      <td>130</td>\n",
       "      <td>2005-06-17 23:46:16</td>\n",
       "      <td>2005-06-22 22:48:16</td>\n",
       "      <td>2</td>\n",
       "      <td>2600</td>\n",
       "    </tr>\n",
       "  </tbody>\n",
       "</table>\n",
       "</div>"
      ],
      "text/plain": [
       "        Name  Rental_Date         Return_Date         Customer ID  Staff ID  \\\n",
       "0  CHARLOTTE          130 2005-05-24 22:53:30 2005-05-26 22:04:30         1   \n",
       "1  CHARLOTTE          130 2005-05-29 09:25:10 2005-06-02 04:20:10         2   \n",
       "2  CHARLOTTE          130 2005-06-16 07:55:01 2005-06-19 06:38:01         1   \n",
       "3  CHARLOTTE          130 2005-06-17 01:39:47 2005-06-24 19:39:47         2   \n",
       "4  CHARLOTTE          130 2005-06-17 23:46:16 2005-06-22 22:48:16         2   \n",
       "\n",
       "   Film ID  \n",
       "0      367  \n",
       "1     4272  \n",
       "2     2413  \n",
       "3     1815  \n",
       "4     2600  "
      ]
     },
     "execution_count": 16,
     "metadata": {},
     "output_type": "execute_result"
    }
   ],
   "source": [
    "from sqlalchemy import join \n",
    "from sqlalchemy.sql import select\n",
    "\n",
    "rental = _tables[13]\n",
    "inventory = _tables[10]\n",
    "customer = _tables[5]\n",
    "\n",
    "join_a = rental.join(inventory,rental.c.inventory_id==inventory.c.inventory_id)\n",
    "join_b = join_a.join(customer, customer.c.customer_id==rental.c.customer_id)\n",
    "\n",
    "\n",
    "select_statement = select([customer.c.first_name,rental.c.customer_id,\n",
    "                    rental.c.rental_date,rental.c.return_date,rental.c.staff_id,\n",
    "                         inventory.c.inventory_id]).select_from(join_b)\n",
    "query = select_statement.where(customer.c.first_name == 'CHARLOTTE')\n",
    "\n",
    "\n",
    "\n",
    "ResultProxy = cnx.execute(query)\n",
    "ResultSet = ResultProxy.fetchall()\n",
    "\n",
    "customer_dispute = pd.DataFrame(ResultSet, columns = ['Name','Rental_Date','Return_Date','Customer ID','Staff ID','Film ID'])\n",
    "customer_dispute.head()"
   ]
  },
  {
   "cell_type": "code",
   "execution_count": null,
   "id": "ranking-buyer",
   "metadata": {},
   "outputs": [],
   "source": []
  }
 ],
 "metadata": {
  "kernelspec": {
   "display_name": "Python [conda env:metis] *",
   "language": "python",
   "name": "conda-env-metis-py"
  },
  "language_info": {
   "codemirror_mode": {
    "name": "ipython",
    "version": 3
   },
   "file_extension": ".py",
   "mimetype": "text/x-python",
   "name": "python",
   "nbconvert_exporter": "python",
   "pygments_lexer": "ipython3",
   "version": "3.8.8"
  }
 },
 "nbformat": 4,
 "nbformat_minor": 5
}
